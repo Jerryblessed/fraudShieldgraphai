{
 "cells": [
{
   "cell_type": "code",
   "execution_count": null,
   "metadata": {},
   "outputs": [],
   "source": [
      "[![Open in Colab](https://colab.research.google.com/assets/colab-badge.svg)]",
      "(https://colab.research.google.com/github/Jerryblessed/fraudShieldgraphai/blob/main/fdetect.ipynb)"
   ]
}
,
  {
   "cell_type": "markdown",
   "metadata": {},
   "source": [
    "# Install necessary libraries\n",
    "!pip install networkx nx_arangodb cugraph-cu12 cudf-cu12 openai langchain_community python-telegram-bot matplotlib langgraph langchain_openai openai  nx-arangodb[llm]"
   ]
  },
  {
   "cell_type": "code",
   "execution_count": null,
   "metadata": {},
   "outputs": [],
   "source": [
    "import os\n",
    "import networkx as nx\n",
    "import nx_arangodb as nxadb\n",
    "import cudf\n",
    "import cugraph as cg\n",
    "import openai\n",
    "from openai import AzureOpenAI\n",
    "import matplotlib.pyplot as plt\n",
    "from networkx.algorithms import community\n",
    "from langchain_community.chat_models import ChatOpenAI\n",
    "from langchain.prompts import ChatPromptTemplate\n",
    "from telegram import Bot  # Telegram Bot API\n",
    "\n",
    "# Load secure environment variables\n",
    "os.environ[\"DATABASE_HOST\"] = \"https://tutorials.arangodb.cloud:8529\"\n",
    "os.environ[\"DATABASE_USERNAME\"] = \"TUThqy2rf7vstghfr8wuhbc59\"\n",
    "os.environ[\"DATABASE_PASSWORD\"] = \"TUTpj1exghn8jutfpibxca2g\"\n",
    "os.environ[\"DATABASE_NAME\"] = \"TUT0pwg4agundai61ujmyjdu\"\n",
    "\n",
    "api_base = \"https://thisisoajo.openai.azure.com/\"\n",
    "api_key = \"9I4UEJweVUdih04Uv8AXcAxs5H8jSQRfwaugcSQYHcI882wSpFvqJQQJ99BAACL93NaXJ3w3AAABACOGkv4f\"\n",
    "api_version = \"2023-06-01-preview\"\n",
    "\n",
    "TELEGRAM_BOT_TOKEN = \"your_telegram_bot_token\"\n",
    "TELEGRAM_CHAT_ID = \"your_chat_id\"\n",
    "\n"
   ]
  },
  {
   "cell_type": "code",
   "execution_count": null,
   "metadata": {},
   "outputs": [],
   "source": [
    "# Initialize Telegram Bot\n",
    "bot = Bot(token=TELEGRAM_BOT_TOKEN)\n",
    "\n",
    "def send_telegram_message(message):\n",
    "    \"\"\"Send a message to Telegram chat.\"\"\"\n",
    "    try:\n",
    "        bot.send_message(chat_id=TELEGRAM_CHAT_ID, text=message)\n",
    "    except Exception as e:\n",
    "        print(f\"Telegram Error: {e}\")\n",
    "\n",
    "\n"
   ]
  },
  {
   "cell_type": "code",
   "execution_count": null,
   "metadata": {},
   "outputs": [],
   "source": [
    "# Graph Analysis Functions\n",
    "def initialize_graph():\n",
    "    \"\"\"Load a sample graph and persist it to ArangoDB.\"\"\"\n",
    "    G_nx = nx.karate_club_graph()\n",
    "    G_adb = nxadb.Graph(name=\"GraphRAG\")\n",
    "    try:\n",
    "        G_adb.add_edges_from([(u, v, {k: val for k, val in d.items() if k not in {'_from', '_to'}}) for u, v, d in G_nx.edges(data=True)])\n",
    "        send_telegram_message(\"✅ Graph successfully initialized in ArangoDB.\")\n",
    "    except KeyError as e:\n",
    "        error_msg = f\"❌ Error adding edges: {e}\"\n",
    "        print(error_msg)\n",
    "        send_telegram_message(error_msg)\n",
    "    return G_adb\n",
    "\n",
    "def analyze_graph_cugraph(G_nx):\n",
    "    \"\"\"Convert to cuGraph for GPU acceleration, fallback to CPU if no CUDA.\"\"\"\n",
    "    try:\n",
    "        if cg.device_context().is_cuda:\n",
    "            cu_df = cudf.DataFrame(list(G_nx.edges(data=True)), columns=[\"src\", \"dst\", \"weight\"])\n",
    "            G_cg = cg.Graph()\n",
    "            G_cg.from_cudf_edgelist(cu_df, source=\"src\", destination=\"dst\", edge_attr=\"weight\")\n",
    "            send_telegram_message(\"⚡ Graph successfully analyzed using cuGraph (GPU-accelerated).\")\n",
    "            return G_cg\n",
    "    except Exception as e:\n",
    "        fallback_msg = f\"⚠️ GPU not available or error using cuGraph: {e}. Falling back to NetworkX.\"\n",
    "        print(fallback_msg)\n",
    "        send_telegram_message(fallback_msg)\n",
    "    return G_nx\n",
    "\n",
    "def visualize_graph(G_adb):\n",
    "    \"\"\"Convert ArangoDB graph to NetworkX and visualize it.\"\"\"\n",
    "    G_nx = nx.Graph(G_adb)\n",
    "    plt.figure(figsize=(8, 6))\n",
    "    nx.draw(G_nx, with_labels=True, node_color='lightblue', edge_color='gray')\n",
    "    plt.title(\"Graph Visualization\")\n",
    "    plt.show()\n",
    "    send_telegram_message(\"📊 Graph visualization displayed.\")\n",
    "\n"
   ]
  },
  {
   "cell_type": "code",
   "execution_count": null,
   "metadata": {},
   "outputs": [],
   "source": [
    "# OpenAI Chat Integration\n",
    "llm = ChatOpenAI(model_name=\"gpt-4o\", openai_api_key=api_key, openai_api_base=api_base)\n",
    "\n",
    "def query_graph(prompt):\n",
    "    \"\"\"Query the graph using GPT-4o and LangChain.\"\"\"\n",
    "    chat_prompt = ChatPromptTemplate.from_messages([\n",
    "        (\"system\", \"You are an AI assistant specializing in graph analytics.\"),\n",
    "        (\"user\", \"{prompt}\")\n",
    "    ])\n",
    "    response = llm.invoke(chat_prompt.format_messages(prompt=prompt))\n",
    "    send_telegram_message(f\"📡 User Query: {prompt}\\n🤖 AI Response: {response}\")\n",
    "    return response\n",
    "\n"
   ]
  },
  {
   "cell_type": "code",
   "execution_count": null,
   "metadata": {},
   "outputs": [],
   "source": [
    "# Run in Jupyter Notebook\n",
    "G_adb = initialize_graph()\n",
    "visualize_graph(G_adb)\n",
    "\n",
    "while True:\n",
    "    user_query = input(\"Ask a graph-related question: \")\n",
    "    if user_query.lower() in [\"exit\", \"quit\"]:\n",
    "        send_telegram_message(\"🔴 Graph interaction session ended.\")\n",
    "        print(\"Goodbye!\")\n",
    "        break\n",
    "    response = query_graph(user_query)\n",
    "    print(\"AI Response:\", response)"
   ]
  }
 ],
 "metadata": {
  "language_info": {
   "name": "python"
  }
 },
 "nbformat": 4,
 "nbformat_minor": 2
}
